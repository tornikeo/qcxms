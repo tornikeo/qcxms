{
 "cells": [
  {
   "cell_type": "code",
   "execution_count": 1,
   "metadata": {},
   "outputs": [],
   "source": [
    "import torch\n",
    "import numpy as np\n",
    "from torch import Tensor\n",
    "from dataclasses import dataclass\n",
    "from pathlib import Path\n",
    "from rdkit.Chem import GetPeriodicTable\n",
    "torch.set_default_dtype(torch.float64)\n",
    "\n",
    "ptable = GetPeriodicTable()"
   ]
  },
  {
   "cell_type": "code",
   "execution_count": 2,
   "metadata": {},
   "outputs": [
    {
     "data": {
      "text/plain": [
       "{'H': 1.00794075,\n",
       " 'He': 4.00260193,\n",
       " 'Li': 6.9400366,\n",
       " 'Be': 9.01218307,\n",
       " 'B': 10.81102805,\n",
       " 'C': 12.0107359,\n",
       " 'N': 14.00670321,\n",
       " 'O': 15.99940492,\n",
       " 'F': 18.99840316,\n",
       " 'Ne': 20.18004638,\n",
       " 'Na': 22.98976928,\n",
       " 'Mg': 24.30505162,\n",
       " 'Al': 26.98153853,\n",
       " 'Si': 28.08549871,\n",
       " 'P': 30.973762,\n",
       " 'S': 32.06478741,\n",
       " 'Cl': 35.45293758,\n",
       " 'Ar': 39.94779856,\n",
       " 'K': 39.09830091,\n",
       " 'Ca': 40.07802251,\n",
       " 'Sc': 44.95590828,\n",
       " 'Ti': 47.86674496,\n",
       " 'V': 50.94146504,\n",
       " 'Cr': 51.99613176,\n",
       " 'Mn': 54.93804391,\n",
       " 'Fe': 55.84514443,\n",
       " 'Co': 58.93319429,\n",
       " 'Ni': 58.69334711,\n",
       " 'Cu': 63.54603995,\n",
       " 'Zn': 65.37778253,\n",
       " 'Ga': 69.72306607,\n",
       " 'Ge': 72.62755016,\n",
       " 'As': 74.92159457,\n",
       " 'Se': 78.95938856,\n",
       " 'Br': 79.90352778,\n",
       " 'Kr': 83.798,\n",
       " 'Rb': 85.4676636,\n",
       " 'Sr': 87.61664447,\n",
       " 'Y': 88.9058403,\n",
       " 'Zr': 91.2236416,\n",
       " 'Nb': 92.906373,\n",
       " 'Mo': 95.95978854,\n",
       " 'Tc': 97.9072124,\n",
       " 'Ru': 101.06494014}"
      ]
     },
     "execution_count": 2,
     "metadata": {},
     "output_type": "execute_result"
    }
   ],
   "source": [
    "amutokg = 1.660539040e-27\n",
    "kgtoamu = 1.0/amutokg\n",
    "metokg  = 9.10938356e-31\n",
    "kgtome  = 1.0/metokg\n",
    "amutoau = amutokg*kgtome # AMU to a atomic units\n",
    "fstoau = 41.3413733365614\n",
    "autoev = 27.21138505\n",
    "evtoau = 1.0/autoev\n",
    "\n",
    "atomic_mass_nist = [\n",
    "1.00794075,  4.00260193,  6.94003660,  9.01218307,\n",
    "10.81102805, 12.01073590, 14.00670321, 15.99940492,\n",
    "18.99840316, 20.18004638, 22.98976928, 24.30505162,\n",
    "26.98153853, 28.08549871, 30.97376200, 32.06478741,\n",
    "35.45293758, 39.94779856, 39.09830091, 40.07802251,\n",
    "44.95590828, 47.86674496, 50.94146504, 51.99613176,\n",
    "54.93804391, 55.84514443, 58.93319429, 58.69334711,\n",
    "63.54603995, 65.37778253, 69.72306607, 72.62755016,\n",
    "74.92159457, 78.95938856, 79.90352778, 83.79800000,\n",
    "85.46766360, 87.61664447, 88.90584030, 91.22364160,\n",
    "92.90637300, 95.95978854, 97.90721240, 101.06494014,\n",
    "]\n",
    "symbols = [ptable.GetElementSymbol(e+1) for e in range(len(atomic_mass_nist))]\n",
    "atomic_mass_nist = dict(zip(symbols, atomic_mass_nist))\n",
    "atomic_mass_nist"
   ]
  },
  {
   "cell_type": "code",
   "execution_count": 3,
   "metadata": {},
   "outputs": [],
   "source": [
    "mchrg_prod = 3 # 3 Means CID\n",
    "prog = 8 # 8 means GFN2-xTB\n",
    "nuc = 14\n",
    "\n"
   ]
  },
  {
   "cell_type": "code",
   "execution_count": 4,
   "metadata": {},
   "outputs": [],
   "source": [
    "\n",
    "#   ! MS method\n",
    "#   method = 0\n",
    "#   ! logical for too small fragments\n",
    "#   small=.false.\n",
    "#   littlemass=.false.\n",
    "#   ! no checking of input etc\n",
    "#   check=.false.\n",
    "#   ! more infos\n",
    "#   verbose = .false.\n",
    "#   ! no production\n",
    "#   prod   =.false.\n",
    "#   ! no equilibration\n",
    "#   noeq   =.true.\n",
    "#   ! test calls\n",
    "#   eonly  =.false.\n",
    "#   eonly0 =.false.\n",
    "#   eonly1 =.false.\n",
    "#   ! uniform velocity scaling\n",
    "#   unity=.false.\n",
    "#   ! check if cid was OK\n",
    "#   stopcid = .false.\n",
    "#   starting_md=.false.\n",
    "#   No_ESI = .false.\n",
    "#   ! HS-UHF ini only for frag runs\n",
    "#   iniok  =.true.\n",
    "#   ! dump every dumpstep MD steps for MOLDEN movie (=4 fs as default)\n",
    "#   dumpstep=4\n",
    "#   ! counts the number of QC calls\n",
    "#   calls=0\n",
    "#   ! set scaling temp to 0\n",
    "#   tscale = 0.0_wp\n",
    "\n",
    "#   ! GBSA Solvation Model\n",
    "#   !solvent='none'\n",
    "#   !gsolvstate=0\n",
    "\n",
    "#   new_velo = 0.0d0\n",
    "#   ! total MD time including ion tracks\n",
    "#   ttime=0\n",
    "#   dtime = 0.0d0\n",
    "#   ! undefined spin state\n",
    "#   mspin=0\n",
    "#   ! neutral M\n",
    "#   mchrg=0\n",
    "#   ! is fragmented?\n",
    "#   fragstate=0\n",
    "\n",
    "#   t1 = 0.0_wp\n",
    "#   t2 = 0.0_wp\n",
    "#   w1 = 0.0_wp\n",
    "#   w2 = 0.0_wp\n",
    "\n",
    "# MS Method\n",
    "method = 0\n",
    "# If too small, no fragmentation can happen\n",
    "small = False\n",
    "littlemass = False\n",
    "\n",
    "# Skip checking input\n",
    "check = False\n",
    "\n",
    "verbose = False\n",
    "\n",
    "\n",
    "prod = False # Do production runs?\n",
    "noeq = True # Do equilibration\n",
    "eonly = False # test calls?\n",
    "eonly0 = False\n",
    "eonly1 = False\n",
    "\n",
    "unity = False # uniform velocity scaling\n",
    "stopcid = False # check if cid was OK\n",
    "starting_md = False\n",
    "No_ESI = False # Do electrospray ionization\n",
    "iniok = True # HS-UHF initialization for fragmentation runs only\n",
    "dumpstep = 4 # Dump molden data steps\n",
    "calls = 0 # Count number of QC calls\n",
    "tscale = 0.0 # Set temperature scale\n",
    "\n",
    "new_velo = 0.0\n",
    "ttime = 0 # Total MD time including ion tracks\n",
    "dtime = 0.0 # Time step size\n",
    "\n",
    "mspin = 0 # Molecule spin?\n",
    "mchrg = 0 # Molecule charge\n",
    "fragstate = 0 # Is fragmented\n",
    "\n",
    "t1 = 0.0 # Timing variables (start, end)\n",
    "t2 = 0.0\n",
    "w1 = 0.0\n",
    "w2 = 0.0"
   ]
  },
  {
   "cell_type": "code",
   "execution_count": 5,
   "metadata": {},
   "outputs": [],
   "source": [
    "from dataclasses import dataclass, field\n",
    "import torch\n",
    "\n",
    "@dataclass\n",
    "class RunSettings:\n",
    "    tadd: float\n",
    "    eimp: float\n",
    "    xyzr: torch.Tensor = field(default_factory=lambda: torch.empty(0, 0, 0))\n",
    "    velor: torch.Tensor = field(default_factory=lambda: torch.empty(0, 0, 0))\n",
    "    eimpr: torch.Tensor = field(default_factory=lambda: torch.empty(0))\n",
    "    taddr: torch.Tensor = field(default_factory=lambda: torch.empty(0))\n",
    "    velofr: torch.Tensor = field(default_factory=lambda: torch.empty(0, 0))\n",
    "\n",
    "@dataclass\n",
    "class CollisionType:\n",
    "    set_coll: int\n",
    "    max_coll: int\n",
    "    \n",
    "    from dataclasses import dataclass, field\n",
    "\n",
    "@dataclass\n",
    "class StructureType:\n",
    "    nat: int = 0\n",
    "    nid: int = 0\n",
    "    nbd: int = 0\n",
    "    id: torch.Tensor = field(default_factory=lambda: torch.empty(0, dtype=torch.int32))\n",
    "    num: torch.Tensor = field(default_factory=lambda: torch.empty(0, dtype=torch.int32))\n",
    "    sym: list = field(default_factory=list)\n",
    "    xyz: torch.Tensor = field(default_factory=lambda: torch.empty((0, 0), dtype=torch.float32))\n",
    "    uhf: int = 0\n",
    "    charge: float = 0.0\n",
    "    lattice: torch.Tensor = field(default_factory=lambda: torch.empty((0, 0), dtype=torch.float32))\n",
    "    periodic: torch.Tensor = field(default_factory=lambda: torch.empty(0, dtype=torch.bool))\n",
    "    bond: torch.Tensor = field(default_factory=lambda: torch.empty((0, 0), dtype=torch.int32))\n",
    "    comment: str = \"\"\n",
    "    info: dict = field(default_factory=dict)\n",
    "    sdf: list = field(default_factory=list)\n",
    "    pdb: list = field(default_factory=list)"
   ]
  },
  {
   "cell_type": "code",
   "execution_count": 6,
   "metadata": {},
   "outputs": [],
   "source": [
    "collauto = False\n",
    "fullauto = False\n",
    "manual = True\n",
    "temprun = False"
   ]
  },
  {
   "cell_type": "code",
   "execution_count": 7,
   "metadata": {},
   "outputs": [],
   "source": [
    "@dataclass\n",
    "class Molecule:\n",
    "    nat: int\n",
    "    xyz: Tensor\n",
    "    elem: list[str]\n",
    "    iat: list[int]\n",
    "    mass: Tensor\n",
    "        \n",
    "    @staticmethod\n",
    "    def from_xyz(path: Path):\n",
    "        nat, *arr = Path(path).read_text().split()\n",
    "        nat = int(nat)\n",
    "        arr = np.array(arr).reshape(-1,4)\n",
    "        elem, xyz = arr[:,0], arr[:,1:]\n",
    "        xyz = xyz.astype(float)\n",
    "        iat = torch.tensor([ptable.GetAtomicNumber(symbol) for symbol in elem])\n",
    "        mass = torch.tensor([atomic_mass_nist[symbol] for symbol in elem])\n",
    "        \n",
    "        assert nat == len(xyz), f'nat == {nat} while len(xyz) == {len(xyz)}'\n",
    "        return Molecule(\n",
    "            nat = nat,\n",
    "            xyz=xyz,\n",
    "            elem=elem.tolist(),\n",
    "            iat=iat,\n",
    "            mass=mass,\n",
    "        )\n",
    "mol_file = '../runs/current/TMPQCXMS/TMP.1/start.xyz'\n",
    "coord_file = '../runs/current/TMPQCXMS/TMP.1/'\n",
    "# mol = \n",
    "# !cat {mol_file}\n",
    "mol = Molecule.from_xyz(mol_file)"
   ]
  },
  {
   "cell_type": "code",
   "execution_count": 8,
   "metadata": {},
   "outputs": [],
   "source": [
    "# This means we have transition metals or s4/5s elems\n",
    "ECP = False"
   ]
  },
  {
   "cell_type": "code",
   "execution_count": 9,
   "metadata": {},
   "outputs": [
    {
     "data": {
      "text/plain": [
       "350"
      ]
     },
     "execution_count": 9,
     "metadata": {},
     "output_type": "execute_result"
    }
   ],
   "source": [
    "nuc = mol.nat\n",
    "ntraj = nuc * 25\n",
    "ntraj"
   ]
  },
  {
   "cell_type": "code",
   "execution_count": 10,
   "metadata": {},
   "outputs": [],
   "source": [
    "ax: float = 0 # \n",
    "\n",
    "def setetemp(nfrag: int, eimp:float) -> float:\n",
    "    \"\"\"\n",
    "    Estimate the electronic temp in Fermi smearing for given IEE and ax\n",
    "    \"\"\"\n",
    "    etemp =  5000. + 20000. * ax\n",
    "    if eimp > 0 and nfrag <= 1:\n",
    "        tmp = max(eimp, 0)\n",
    "        etemp = etemp + tmp * ieetemp\n",
    "        \n",
    "    return etemp\n",
    "\n",
    "\n",
    "ieetemp: float = 0 # TODO: Decode 'relate IEE to eTemp in SCF'\n",
    "betemp: float = 0 # \n",
    "betemp = setetemp(nfrag=1, eimp=-1.0)"
   ]
  },
  {
   "cell_type": "code",
   "execution_count": 11,
   "metadata": {},
   "outputs": [
    {
     "data": {
      "text/plain": [
       "tensor([0.9701])"
      ]
     },
     "execution_count": 11,
     "metadata": {},
     "output_type": "execute_result"
    }
   ],
   "source": [
    "iseed: int = 0\n",
    "torch.manual_seed(iseed)\n",
    "randx = torch.rand(1,)\n",
    "randx"
   ]
  },
  {
   "cell_type": "code",
   "execution_count": 12,
   "metadata": {},
   "outputs": [
    {
     "data": {
      "text/plain": [
       "17500"
      ]
     },
     "execution_count": 12,
     "metadata": {},
     "output_type": "execute_result"
    }
   ],
   "source": [
    "nmax0 = ntraj * 50\n",
    "nmax0"
   ]
  },
  {
   "cell_type": "code",
   "execution_count": 13,
   "metadata": {},
   "outputs": [],
   "source": [
    "betemp = 5000.0 # TODO: Any effects from this? \"Hardcoded for xTB for now\""
   ]
  },
  {
   "cell_type": "code",
   "execution_count": 14,
   "metadata": {},
   "outputs": [
    {
     "data": {
      "text/plain": [
       "(5000.0, 10000.0, 0.5)"
      ]
     },
     "execution_count": 14,
     "metadata": {},
     "output_type": "execute_result"
    }
   ],
   "source": [
    "tmax = 5 # Max running time in picoseconds\n",
    "tmax = tmax * 1000.0 # Max running time in femtoseconds\n",
    "tstep = 0.5 # Timestep in femtoseconds\n",
    "nmax = tmax / tstep # Total steps\n",
    "tmax, nmax, tstep"
   ]
  },
  {
   "cell_type": "code",
   "execution_count": 15,
   "metadata": {},
   "outputs": [
    {
     "data": {
      "text/plain": [
       "(0.5, 2.572452665359642)"
      ]
     },
     "execution_count": 15,
     "metadata": {},
     "output_type": "execute_result"
    }
   ],
   "source": [
    "# Convert femtoseconds to atomic units (aus)\n",
    "\n",
    "\n",
    "eimp0 = 70 # Electronvolts\n",
    "eimp0 = eimp0 * evtoau # energy in atomic units\n",
    "tstep, eimp0"
   ]
  },
  {
   "cell_type": "code",
   "execution_count": 16,
   "metadata": {},
   "outputs": [],
   "source": [
    "# Are there any 4s-4d/5s-5d elements?\n",
    "noecp = False\n",
    "ECP = False"
   ]
  },
  {
   "cell_type": "code",
   "execution_count": 17,
   "metadata": {},
   "outputs": [
    {
     "data": {
      "text/plain": [
       "tensor([8, 6, 6, 6, 6, 1, 1, 1, 1, 1, 1, 1, 1, 1])"
      ]
     },
     "execution_count": 17,
     "metadata": {},
     "output_type": "execute_result"
    }
   ],
   "source": [
    "mol.iat"
   ]
  },
  {
   "cell_type": "code",
   "execution_count": 18,
   "metadata": {},
   "outputs": [
    {
     "data": {
      "text/plain": [
       "14"
      ]
     },
     "execution_count": 18,
     "metadata": {},
     "output_type": "execute_result"
    }
   ],
   "source": [
    "nuc"
   ]
  },
  {
   "cell_type": "code",
   "execution_count": 19,
   "metadata": {},
   "outputs": [
    {
     "data": {
      "text/plain": [
       "tensor([29165.1310, 21894.2322, 21894.2322, 21894.2322, 21894.2322,  1837.3636,\n",
       "         1837.3636,  1837.3636,  1837.3636,  1837.3636,  1837.3636,  1837.3636,\n",
       "         1837.3636,  1837.3636])"
      ]
     },
     "execution_count": 19,
     "metadata": {},
     "output_type": "execute_result"
    }
   ],
   "source": [
    "mass = mol.mass * amutoau\n",
    "mass"
   ]
  },
  {
   "cell_type": "code",
   "execution_count": 20,
   "metadata": {},
   "outputs": [],
   "source": [
    "method = 3 # 3 means CID\n",
    "# TODO \n",
    "assert prog != 0, \"CID is not suitable with DFTB, why?\""
   ]
  },
  {
   "cell_type": "code",
   "execution_count": 21,
   "metadata": {},
   "outputs": [
    {
     "data": {
      "text/plain": [
       "tensor([29165.1310, 21894.2322, 21894.2322, 21894.2322, 21894.2322,  1837.3636,\n",
       "         1837.3636,  1837.3636,  1837.3636,  1837.3636,  1837.3636,  1837.3636,\n",
       "         1837.3636,  1837.3636])"
      ]
     },
     "execution_count": 21,
     "metadata": {},
     "output_type": "execute_result"
    }
   ],
   "source": [
    "mass"
   ]
  },
  {
   "cell_type": "code",
   "execution_count": 22,
   "metadata": {},
   "outputs": [],
   "source": [
    "velof = 1.0\n",
    "\n",
    "# Set charge\n",
    "mchrg_prod = 1\n",
    "mchrg = mchrg_prod\n",
    "chrgcont = mchrg\n",
    "\n",
    "collisions = 0\n",
    "edum = 0\n",
    "\n",
    "# cidcheck():\n",
    "@dataclass\n",
    "class CollisionType:\n",
    "    max_coll: int = 6\n",
    "    set_coll: int = 10\n",
    "    \n",
    "coll = CollisionType()"
   ]
  },
  {
   "cell_type": "code",
   "execution_count": 23,
   "metadata": {},
   "outputs": [],
   "source": [
    "tadd = 0.0\n",
    "eimp = 0.0\n",
    "velof = 1.0\n",
    "# Smaller than 7 atoms doesn't work\n",
    "# \n",
    "small = nuc <= 7\n",
    "assert not small"
   ]
  },
  {
   "cell_type": "code",
   "execution_count": null,
   "metadata": {},
   "outputs": [],
   "source": []
  },
  {
   "cell_type": "code",
   "execution_count": 24,
   "metadata": {},
   "outputs": [],
   "source": [
    "starting_md = False"
   ]
  },
  {
   "cell_type": "code",
   "execution_count": 25,
   "metadata": {},
   "outputs": [],
   "source": [
    "manual = True"
   ]
  },
  {
   "cell_type": "code",
   "execution_count": 26,
   "metadata": {},
   "outputs": [
    {
     "name": "stdout",
     "output_type": "stream",
     "text": [
      "!!! M+ collisions are user set !!!\n"
     ]
    }
   ],
   "source": [
    "# when collsec > 0, fragment until you have collsec fragments\n",
    "# specifically. First fragmentation can yield max collsec[0] fragments\n",
    "# second, max collsec[1], etc\n",
    "collsec = torch.zeros(3)\n",
    "# when collno > 0, force this many collisions\n",
    "collno = torch.zeros(3)\n",
    "\n",
    "\n",
    "ELAB = 40 # eV\n",
    "maxcoll = 6  # Do this many collisions max\n",
    "\n",
    "if coll.max_coll != 0:\n",
    "    print('!!! M+ collisions are user set !!!')\n",
    "    collisions = coll.max_coll\n",
    "    new_counter = 1 # This counts total fragments at current step"
   ]
  },
  {
   "cell_type": "markdown",
   "metadata": {},
   "source": [
    "### Start Loop for CID collision and subsequent MD simulation"
   ]
  },
  {
   "cell_type": "code",
   "execution_count": 27,
   "metadata": {},
   "outputs": [],
   "source": [
    "itrj: int = 0\n",
    "icoll: int = 0\n",
    "isec: int = 0"
   ]
  },
  {
   "cell_type": "code",
   "execution_count": 28,
   "metadata": {},
   "outputs": [],
   "source": [
    "isec = 1\n",
    "icoll = icoll + 1\n",
    "fragstate = 0"
   ]
  },
  {
   "cell_type": "code",
   "execution_count": 29,
   "metadata": {},
   "outputs": [],
   "source": [
    "itraj = 1\n",
    "collisions = 6\n",
    "mchrg = 1\n",
    "chrgcont = 1.0"
   ]
  },
  {
   "cell_type": "code",
   "execution_count": 31,
   "metadata": {},
   "outputs": [],
   "source": [
    "# direc(3),cm(3),cm1(3),cm2(3)\n",
    "direc, cm, cm1, cm2 = torch.zeros((4, 3), dtype=torch.float32)\n",
    "\n",
    "if icoll != 1:\n",
    "    direc = cm2 - cm1\n",
    "    direc /= torch.norm(direc, p=2)"
   ]
  },
  {
   "cell_type": "code",
   "execution_count": 32,
   "metadata": {},
   "outputs": [
    {
     "data": {
      "text/plain": [
       "tensor([0., 0., 0.], dtype=torch.float32)"
      ]
     },
     "execution_count": 32,
     "metadata": {},
     "output_type": "execute_result"
    }
   ],
   "source": [
    "direc"
   ]
  }
 ],
 "metadata": {
  "kernelspec": {
   "display_name": "pb2",
   "language": "python",
   "name": "python3"
  },
  "language_info": {
   "codemirror_mode": {
    "name": "ipython",
    "version": 3
   },
   "file_extension": ".py",
   "mimetype": "text/x-python",
   "name": "python",
   "nbconvert_exporter": "python",
   "pygments_lexer": "ipython3",
   "version": "3.11.8"
  }
 },
 "nbformat": 4,
 "nbformat_minor": 2
}
