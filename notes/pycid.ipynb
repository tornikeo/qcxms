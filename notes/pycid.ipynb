{
 "cells": [
  {
   "cell_type": "code",
   "execution_count": 1,
   "metadata": {},
   "outputs": [],
   "source": [
    "import torch\n",
    "import numpy as np\n",
    "from torch import Tensor\n",
    "from dataclasses import dataclass\n",
    "from pathlib import Path\n",
    "from rdkit.Chem import GetPeriodicTable\n",
    "torch.set_default_dtype(torch.float64)\n",
    "\n",
    "ptable = GetPeriodicTable()"
   ]
  },
  {
   "cell_type": "code",
   "execution_count": 2,
   "metadata": {},
   "outputs": [
    {
     "data": {
      "text/plain": [
       "{'H': 1.00794075,\n",
       " 'He': 4.00260193,\n",
       " 'Li': 6.9400366,\n",
       " 'Be': 9.01218307,\n",
       " 'B': 10.81102805,\n",
       " 'C': 12.0107359,\n",
       " 'N': 14.00670321,\n",
       " 'O': 15.99940492,\n",
       " 'F': 18.99840316,\n",
       " 'Ne': 20.18004638,\n",
       " 'Na': 22.98976928,\n",
       " 'Mg': 24.30505162,\n",
       " 'Al': 26.98153853,\n",
       " 'Si': 28.08549871,\n",
       " 'P': 30.973762,\n",
       " 'S': 32.06478741,\n",
       " 'Cl': 35.45293758,\n",
       " 'Ar': 39.94779856,\n",
       " 'K': 39.09830091,\n",
       " 'Ca': 40.07802251,\n",
       " 'Sc': 44.95590828,\n",
       " 'Ti': 47.86674496,\n",
       " 'V': 50.94146504,\n",
       " 'Cr': 51.99613176,\n",
       " 'Mn': 54.93804391,\n",
       " 'Fe': 55.84514443,\n",
       " 'Co': 58.93319429,\n",
       " 'Ni': 58.69334711,\n",
       " 'Cu': 63.54603995,\n",
       " 'Zn': 65.37778253,\n",
       " 'Ga': 69.72306607,\n",
       " 'Ge': 72.62755016,\n",
       " 'As': 74.92159457,\n",
       " 'Se': 78.95938856,\n",
       " 'Br': 79.90352778,\n",
       " 'Kr': 83.798,\n",
       " 'Rb': 85.4676636,\n",
       " 'Sr': 87.61664447,\n",
       " 'Y': 88.9058403,\n",
       " 'Zr': 91.2236416,\n",
       " 'Nb': 92.906373,\n",
       " 'Mo': 95.95978854,\n",
       " 'Tc': 97.9072124,\n",
       " 'Ru': 101.06494014}"
      ]
     },
     "execution_count": 2,
     "metadata": {},
     "output_type": "execute_result"
    }
   ],
   "source": [
    "# Conversion module in Python\n",
    "\n",
    "# Conversion factors\n",
    "# Convert Bohr (a.u.) to Ångström and back\n",
    "autoaa = 0.52917726  # Bohr to Ångström\n",
    "aatoau = 1.0 / autoaa  # Ångström to Bohr\n",
    "\n",
    "# Convert Hartree to eV and back\n",
    "autoev = 27.21138505  # Hartree to eV\n",
    "evtoau = 1.0 / autoev  # eV to Hartree\n",
    "\n",
    "# Convert Hartree to kcal/mol and back\n",
    "autokcal = 627.50947428  # Hartree to kcal/mol\n",
    "kcaltoau = 1.0 / autokcal  # kcal/mol to Hartree\n",
    "\n",
    "# Convert Hartree to kJ/mol and back\n",
    "autokj = 2625.49964038  # Hartree to kJ/mol\n",
    "kjtoau = 1.0 / autokj  # kJ/mol to Hartree\n",
    "\n",
    "# Convert Hartree to reciprocal centimeters/wavenumbers and back\n",
    "autorcm = 219474.63067  # Hartree to reciprocal centimeters (wavenumbers)\n",
    "autowav = autorcm  # Alias for wavenumbers\n",
    "rcmtoau = 1.0 / autorcm  # Reciprocal centimeters to Hartree\n",
    "wavtoau = 1.0 / autowav  # Wavenumbers to Hartree\n",
    "\n",
    "# Convert Hartree to nanometers and back\n",
    "autonm = 45.56335266  # Hartree to nanometers\n",
    "nmtoau = 1.0 / autonm  # Nanometers to Hartree\n",
    "\n",
    "# Masses\n",
    "# amu -> kg: conversion from atomic mass units to kg\n",
    "amutokg = 1.660539040e-27  # Atomic mass units to kg\n",
    "kgtoamu = 1.0 / amutokg  # kg to atomic mass units\n",
    "\n",
    "# me -> kg: electron mass (a.u.) in kg\n",
    "metokg = 9.10938356e-31  # Electron mass in kg\n",
    "kgtome = 1.0 / metokg  # kg to electron mass\n",
    "\n",
    "# amu -> au: conversion from a.u. to amu\n",
    "amutoau = amutokg * kgtome  # Atomic mass units to atomic units\n",
    "autoamu = kgtoamu * metokg  # Atomic units to atomic mass units\n",
    "\n",
    "# Femtoseconds to atomic time units\n",
    "fstoau = 41.3413733365614  # Femtoseconds to atomic units\n",
    "autofs = 1.0 / fstoau  # Atomic units to femtoseconds\n",
    "\n",
    "# Coulomb to atomic charge units (electrons)\n",
    "autoc = 1.6021766208e-19  # Coulomb to atomic charge units\n",
    "ctoau = 1.0 / autoc  # Atomic charge units to Coulomb\n",
    "\n",
    "# Debye to atomic units\n",
    "autod = autoc * 299792458 * autoaa**2 * fstoau * 1.0e+16  # Debye to atomic units\n",
    "dtoau = 1.0 / autod  # Atomic units to Debye\n",
    "\n",
    "# Convert meters/second to atomic units\n",
    "mstoau = 1.0 / 2.18769126364e+06  # Meter/second to atomic units\n",
    "\n",
    "\n",
    "atomic_mass_nist = [\n",
    "    1.00794075,  4.00260193,  6.94003660,  9.01218307,\n",
    "    10.81102805, 12.01073590, 14.00670321, 15.99940492,\n",
    "    18.99840316, 20.18004638, 22.98976928, 24.30505162,\n",
    "    26.98153853, 28.08549871, 30.97376200, 32.06478741,\n",
    "    35.45293758, 39.94779856, 39.09830091, 40.07802251,\n",
    "    44.95590828, 47.86674496, 50.94146504, 51.99613176,\n",
    "    54.93804391, 55.84514443, 58.93319429, 58.69334711,\n",
    "    63.54603995, 65.37778253, 69.72306607, 72.62755016,\n",
    "    74.92159457, 78.95938856, 79.90352778, 83.79800000,\n",
    "    85.46766360, 87.61664447, 88.90584030, 91.22364160,\n",
    "    92.90637300, 95.95978854, 97.90721240, 101.06494014,\n",
    "]\n",
    "symbols = [ptable.GetElementSymbol(e+1) for e in range(len(atomic_mass_nist))]\n",
    "atomic_mass_nist = dict(zip(symbols, atomic_mass_nist))\n",
    "atomic_mass_nist"
   ]
  },
  {
   "cell_type": "code",
   "execution_count": 3,
   "metadata": {},
   "outputs": [],
   "source": [
    "mchrg_prod = 3 # 3 Means CID\n",
    "prog = 8 # 8 means GFN2-xTB\n",
    "nuc = 14\n",
    "\n"
   ]
  },
  {
   "cell_type": "code",
   "execution_count": 4,
   "metadata": {},
   "outputs": [],
   "source": [
    "\n",
    "#   ! MS method\n",
    "#   method = 0\n",
    "#   ! logical for too small fragments\n",
    "#   small=.false.\n",
    "#   littlemass=.false.\n",
    "#   ! no checking of input etc\n",
    "#   check=.false.\n",
    "#   ! more infos\n",
    "#   verbose = .false.\n",
    "#   ! no production\n",
    "#   prod   =.false.\n",
    "#   ! no equilibration\n",
    "#   noeq   =.true.\n",
    "#   ! test calls\n",
    "#   eonly  =.false.\n",
    "#   eonly0 =.false.\n",
    "#   eonly1 =.false.\n",
    "#   ! uniform velocity scaling\n",
    "#   unity=.false.\n",
    "#   ! check if cid was OK\n",
    "#   stopcid = .false.\n",
    "#   starting_md=.false.\n",
    "#   No_ESI = .false.\n",
    "#   ! HS-UHF ini only for frag runs\n",
    "#   iniok  =.true.\n",
    "#   ! dump every dumpstep MD steps for MOLDEN movie (=4 fs as default)\n",
    "#   dumpstep=4\n",
    "#   ! counts the number of QC calls\n",
    "#   calls=0\n",
    "#   ! set scaling temp to 0\n",
    "#   tscale = 0.0_wp\n",
    "\n",
    "#   ! GBSA Solvation Model\n",
    "#   !solvent='none'\n",
    "#   !gsolvstate=0\n",
    "\n",
    "#   new_velo = 0.0d0\n",
    "#   ! total MD time including ion tracks\n",
    "#   ttime=0\n",
    "#   dtime = 0.0d0\n",
    "#   ! undefined spin state\n",
    "#   mspin=0\n",
    "#   ! neutral M\n",
    "#   mchrg=0\n",
    "#   ! is fragmented?\n",
    "#   fragstate=0\n",
    "\n",
    "#   t1 = 0.0_wp\n",
    "#   t2 = 0.0_wp\n",
    "#   w1 = 0.0_wp\n",
    "#   w2 = 0.0_wp\n",
    "\n",
    "# MS Method\n",
    "method = 0\n",
    "# If too small, no fragmentation can happen\n",
    "small = False\n",
    "littlemass = False\n",
    "\n",
    "# Skip checking input\n",
    "check = False\n",
    "\n",
    "verbose = False\n",
    "\n",
    "\n",
    "prod = False # Do production runs?\n",
    "noeq = True # Do equilibration\n",
    "eonly = False # test calls?\n",
    "eonly0 = False\n",
    "eonly1 = False\n",
    "\n",
    "unity = False # uniform velocity scaling\n",
    "stopcid = False # check if cid was OK\n",
    "starting_md = False\n",
    "No_ESI = False # Do electrospray ionization\n",
    "iniok = True # HS-UHF initialization for fragmentation runs only\n",
    "dumpstep = 4 # Dump molden data steps\n",
    "calls = 0 # Count number of QC calls\n",
    "tscale = 0.0 # Set temperature scale\n",
    "\n",
    "new_velo = 0.0\n",
    "ttime = 0 # Total MD time including ion tracks\n",
    "dtime = 0.0 # Time step size\n",
    "\n",
    "mspin = 0 # Molecule spin?\n",
    "mchrg = 0 # Molecule charge\n",
    "fragstate = 0 # Is fragmented\n",
    "\n",
    "t1 = 0.0 # Timing variables (start, end)\n",
    "t2 = 0.0\n",
    "w1 = 0.0\n",
    "w2 = 0.0"
   ]
  },
  {
   "cell_type": "code",
   "execution_count": 5,
   "metadata": {},
   "outputs": [],
   "source": [
    "from dataclasses import dataclass, field\n",
    "import torch\n",
    "\n",
    "@dataclass\n",
    "class RunSettings:\n",
    "    tadd: float\n",
    "    eimp: float\n",
    "    xyzr: torch.Tensor = field(default_factory=lambda: torch.empty(0, 0, 0))\n",
    "    velor: torch.Tensor = field(default_factory=lambda: torch.empty(0, 0, 0))\n",
    "    eimpr: torch.Tensor = field(default_factory=lambda: torch.empty(0))\n",
    "    taddr: torch.Tensor = field(default_factory=lambda: torch.empty(0))\n",
    "    velofr: torch.Tensor = field(default_factory=lambda: torch.empty(0, 0))\n",
    "\n",
    "@dataclass\n",
    "class CollisionType:\n",
    "    set_coll: int\n",
    "    max_coll: int\n",
    "    \n",
    "    from dataclasses import dataclass, field\n",
    "\n",
    "@dataclass\n",
    "class StructureType:\n",
    "    nat: int = 0\n",
    "    nid: int = 0\n",
    "    nbd: int = 0\n",
    "    id: torch.Tensor = field(default_factory=lambda: torch.empty(0, dtype=torch.int32))\n",
    "    num: torch.Tensor = field(default_factory=lambda: torch.empty(0, dtype=torch.int32))\n",
    "    sym: list = field(default_factory=list)\n",
    "    xyz: torch.Tensor = field(default_factory=lambda: torch.empty((0, 0), dtype=torch.float32))\n",
    "    uhf: int = 0\n",
    "    charge: float = 0.0\n",
    "    lattice: torch.Tensor = field(default_factory=lambda: torch.empty((0, 0), dtype=torch.float32))\n",
    "    periodic: torch.Tensor = field(default_factory=lambda: torch.empty(0, dtype=torch.bool))\n",
    "    bond: torch.Tensor = field(default_factory=lambda: torch.empty((0, 0), dtype=torch.int32))\n",
    "    comment: str = \"\"\n",
    "    info: dict = field(default_factory=dict)\n",
    "    sdf: list = field(default_factory=list)\n",
    "    pdb: list = field(default_factory=list)"
   ]
  },
  {
   "cell_type": "code",
   "execution_count": 6,
   "metadata": {},
   "outputs": [],
   "source": [
    "collauto = False\n",
    "fullauto = False\n",
    "manual = True\n",
    "temprun = False"
   ]
  },
  {
   "cell_type": "code",
   "execution_count": 7,
   "metadata": {},
   "outputs": [],
   "source": [
    "@dataclass\n",
    "class Molecule:\n",
    "    nat: int\n",
    "    xyz: Tensor\n",
    "    elem: list[str]\n",
    "    iat: list[int]\n",
    "    mass: Tensor\n",
    "        \n",
    "    @staticmethod\n",
    "    def from_xyz(path: Path):\n",
    "        nat, *arr = Path(path).read_text().split()\n",
    "        nat = int(nat)\n",
    "        arr = np.array(arr).reshape(-1,4)\n",
    "        elem, xyz = arr[:,0], arr[:,1:]\n",
    "        xyz = xyz.astype(float)\n",
    "        iat = torch.tensor([ptable.GetAtomicNumber(symbol) for symbol in elem])\n",
    "        mass = torch.tensor([atomic_mass_nist[symbol] for symbol in elem])\n",
    "        \n",
    "        assert nat == len(xyz), f'nat == {nat} while len(xyz) == {len(xyz)}'\n",
    "        return Molecule(\n",
    "            nat = nat,\n",
    "            xyz=xyz,\n",
    "            elem=elem.tolist(),\n",
    "            iat=iat,\n",
    "            mass=mass,\n",
    "        )\n",
    "mol_file = '../runs/current/TMPQCXMS/TMP.1/start.xyz'\n",
    "coord_file = '../runs/current/TMPQCXMS/TMP.1/'\n",
    "# mol = \n",
    "# !cat {mol_file}\n",
    "mol = Molecule.from_xyz(mol_file)"
   ]
  },
  {
   "cell_type": "code",
   "execution_count": 8,
   "metadata": {},
   "outputs": [],
   "source": [
    "# This means we have transition metals or s4/5s elems\n",
    "ECP = False"
   ]
  },
  {
   "cell_type": "code",
   "execution_count": 9,
   "metadata": {},
   "outputs": [
    {
     "data": {
      "text/plain": [
       "350"
      ]
     },
     "execution_count": 9,
     "metadata": {},
     "output_type": "execute_result"
    }
   ],
   "source": [
    "nuc = mol.nat\n",
    "ntraj = nuc * 25\n",
    "ntraj"
   ]
  },
  {
   "cell_type": "code",
   "execution_count": 10,
   "metadata": {},
   "outputs": [],
   "source": [
    "ax: float = 0 # \n",
    "\n",
    "def setetemp(nfrag: int, eimp:float) -> float:\n",
    "    \"\"\"\n",
    "    Estimate the electronic temp in Fermi smearing for given IEE and ax\n",
    "    \"\"\"\n",
    "    etemp =  5000. + 20000. * ax\n",
    "    if eimp > 0 and nfrag <= 1:\n",
    "        tmp = max(eimp, 0)\n",
    "        etemp = etemp + tmp * ieetemp\n",
    "        \n",
    "    return etemp\n",
    "\n",
    "\n",
    "ieetemp: float = 0 # TODO: Decode 'relate IEE to eTemp in SCF'\n",
    "betemp: float = 0 # \n",
    "betemp = setetemp(nfrag=1, eimp=-1.0)"
   ]
  },
  {
   "cell_type": "code",
   "execution_count": 11,
   "metadata": {},
   "outputs": [
    {
     "data": {
      "text/plain": [
       "tensor([0.9701])"
      ]
     },
     "execution_count": 11,
     "metadata": {},
     "output_type": "execute_result"
    }
   ],
   "source": [
    "iseed: int = 0\n",
    "torch.manual_seed(iseed)\n",
    "randx = torch.rand(1,)\n",
    "randx"
   ]
  },
  {
   "cell_type": "code",
   "execution_count": 12,
   "metadata": {},
   "outputs": [
    {
     "data": {
      "text/plain": [
       "17500"
      ]
     },
     "execution_count": 12,
     "metadata": {},
     "output_type": "execute_result"
    }
   ],
   "source": [
    "nmax0 = ntraj * 50\n",
    "nmax0"
   ]
  },
  {
   "cell_type": "code",
   "execution_count": 13,
   "metadata": {},
   "outputs": [],
   "source": [
    "betemp = 5000.0 # TODO: Any effects from this? \"Hardcoded for xTB for now\""
   ]
  },
  {
   "cell_type": "code",
   "execution_count": 14,
   "metadata": {},
   "outputs": [
    {
     "data": {
      "text/plain": [
       "(5000.0, 10000.0, 0.5)"
      ]
     },
     "execution_count": 14,
     "metadata": {},
     "output_type": "execute_result"
    }
   ],
   "source": [
    "tmax = 5 # Max running time in picoseconds\n",
    "tmax = tmax * 1000.0 # Max running time in femtoseconds\n",
    "tstep = 0.5 # Timestep in femtoseconds\n",
    "nmax = tmax / tstep # Total steps\n",
    "tmax, nmax, tstep"
   ]
  },
  {
   "cell_type": "code",
   "execution_count": 15,
   "metadata": {},
   "outputs": [
    {
     "data": {
      "text/plain": [
       "(0.5, 2.572452665359642)"
      ]
     },
     "execution_count": 15,
     "metadata": {},
     "output_type": "execute_result"
    }
   ],
   "source": [
    "# Convert femtoseconds to atomic units (aus)\n",
    "\n",
    "\n",
    "eimp0 = 70 # Electronvolts\n",
    "eimp0 = eimp0 * evtoau # energy in atomic units\n",
    "tstep, eimp0"
   ]
  },
  {
   "cell_type": "code",
   "execution_count": 16,
   "metadata": {},
   "outputs": [],
   "source": [
    "# Are there any 4s-4d/5s-5d elements?\n",
    "noecp = False\n",
    "ECP = False"
   ]
  },
  {
   "cell_type": "code",
   "execution_count": 17,
   "metadata": {},
   "outputs": [
    {
     "data": {
      "text/plain": [
       "tensor([8, 6, 6, 6, 6, 1, 1, 1, 1, 1, 1, 1, 1, 1])"
      ]
     },
     "execution_count": 17,
     "metadata": {},
     "output_type": "execute_result"
    }
   ],
   "source": [
    "mol.iat"
   ]
  },
  {
   "cell_type": "code",
   "execution_count": 18,
   "metadata": {},
   "outputs": [
    {
     "data": {
      "text/plain": [
       "14"
      ]
     },
     "execution_count": 18,
     "metadata": {},
     "output_type": "execute_result"
    }
   ],
   "source": [
    "nuc"
   ]
  },
  {
   "cell_type": "code",
   "execution_count": 19,
   "metadata": {},
   "outputs": [
    {
     "data": {
      "text/plain": [
       "tensor([29165.1310, 21894.2322, 21894.2322, 21894.2322, 21894.2322,  1837.3636,\n",
       "         1837.3636,  1837.3636,  1837.3636,  1837.3636,  1837.3636,  1837.3636,\n",
       "         1837.3636,  1837.3636])"
      ]
     },
     "execution_count": 19,
     "metadata": {},
     "output_type": "execute_result"
    }
   ],
   "source": [
    "mass = mol.mass * amutoau\n",
    "mass"
   ]
  },
  {
   "cell_type": "code",
   "execution_count": 20,
   "metadata": {},
   "outputs": [],
   "source": [
    "method = 3 # 3 means CID\n",
    "# TODO \n",
    "assert prog != 0, \"CID is not suitable with DFTB, why?\""
   ]
  },
  {
   "cell_type": "code",
   "execution_count": 21,
   "metadata": {},
   "outputs": [
    {
     "data": {
      "text/plain": [
       "tensor([29165.1310, 21894.2322, 21894.2322, 21894.2322, 21894.2322,  1837.3636,\n",
       "         1837.3636,  1837.3636,  1837.3636,  1837.3636,  1837.3636,  1837.3636,\n",
       "         1837.3636,  1837.3636])"
      ]
     },
     "execution_count": 21,
     "metadata": {},
     "output_type": "execute_result"
    }
   ],
   "source": [
    "mass"
   ]
  },
  {
   "cell_type": "code",
   "execution_count": 22,
   "metadata": {},
   "outputs": [],
   "source": [
    "velof = 1.0\n",
    "\n",
    "# Set charge\n",
    "mchrg_prod = 1\n",
    "mchrg = mchrg_prod\n",
    "chrgcont = mchrg\n",
    "\n",
    "collisions = 0\n",
    "edum = 0\n",
    "\n",
    "# cidcheck():\n",
    "@dataclass\n",
    "class CollisionType:\n",
    "    max_coll: int = 6\n",
    "    set_coll: int = 10\n",
    "    \n",
    "coll = CollisionType()"
   ]
  },
  {
   "cell_type": "code",
   "execution_count": 23,
   "metadata": {},
   "outputs": [],
   "source": [
    "tadd = 0.0\n",
    "eimp = 0.0\n",
    "velof = 1.0\n",
    "# Smaller than 7 atoms doesn't work\n",
    "# \n",
    "small = nuc <= 7\n",
    "assert not small"
   ]
  },
  {
   "cell_type": "code",
   "execution_count": null,
   "metadata": {},
   "outputs": [],
   "source": []
  },
  {
   "cell_type": "code",
   "execution_count": 24,
   "metadata": {},
   "outputs": [],
   "source": [
    "starting_md = False"
   ]
  },
  {
   "cell_type": "code",
   "execution_count": 25,
   "metadata": {},
   "outputs": [],
   "source": [
    "manual = True"
   ]
  },
  {
   "cell_type": "code",
   "execution_count": 26,
   "metadata": {},
   "outputs": [
    {
     "name": "stdout",
     "output_type": "stream",
     "text": [
      "!!! M+ collisions are user set !!!\n"
     ]
    }
   ],
   "source": [
    "# when collsec > 0, fragment until you have collsec fragments\n",
    "# specifically. First fragmentation can yield max collsec[0] fragments\n",
    "# second, max collsec[1], etc\n",
    "collsec = torch.zeros(3)\n",
    "# when collno > 0, force this many collisions\n",
    "collno = torch.zeros(3)\n",
    "\n",
    "\n",
    "ELAB = 40 # eV\n",
    "maxcoll = 6  # Do this many collisions max\n",
    "\n",
    "if coll.max_coll != 0:\n",
    "    print('!!! M+ collisions are user set !!!')\n",
    "    collisions = coll.max_coll\n",
    "    new_counter = 1 # This counts total fragments at current step"
   ]
  },
  {
   "cell_type": "markdown",
   "metadata": {},
   "source": [
    "### Start Loop for CID collision and subsequent MD simulation"
   ]
  },
  {
   "cell_type": "code",
   "execution_count": 27,
   "metadata": {},
   "outputs": [],
   "source": [
    "itrj: int = 0\n",
    "icoll: int = 0\n",
    "isec: int = 0"
   ]
  },
  {
   "cell_type": "code",
   "execution_count": 28,
   "metadata": {},
   "outputs": [],
   "source": [
    "isec = 1\n",
    "icoll = icoll + 1\n",
    "fragstate = 0"
   ]
  },
  {
   "cell_type": "code",
   "execution_count": 29,
   "metadata": {},
   "outputs": [],
   "source": [
    "itraj = 1\n",
    "collisions = 6\n",
    "mchrg = 1\n",
    "chrgcont = 1.0"
   ]
  },
  {
   "cell_type": "code",
   "execution_count": 30,
   "metadata": {},
   "outputs": [],
   "source": [
    "# direc(3),cm(3),cm1(3),cm2(3)\n",
    "direc, cm, cm1, cm2 = torch.zeros((4, 3), dtype=torch.float32)\n",
    "\n",
    "if icoll != 1:\n",
    "    direc = cm2 - cm1\n",
    "    direc /= torch.norm(direc, p=2)"
   ]
  },
  {
   "cell_type": "code",
   "execution_count": 31,
   "metadata": {},
   "outputs": [
    {
     "data": {
      "text/plain": [
       "tensor([0., 0., 0.], dtype=torch.float32)"
      ]
     },
     "execution_count": 31,
     "metadata": {},
     "output_type": "execute_result"
    }
   ],
   "source": [
    "direc"
   ]
  },
  {
   "cell_type": "markdown",
   "metadata": {},
   "source": [
    "### CID"
   ]
  },
  {
   "cell_type": "code",
   "execution_count": 32,
   "metadata": {},
   "outputs": [],
   "source": [
    "@dataclass\n",
    "class GasParameters:\n",
    "    indatom: int\n",
    "    iatom: int\n",
    "    \"Is this the mass of atom\"\n",
    "    miatom: float\n",
    "    riatom: float\n",
    "    \n",
    "gas = GasParameters(\n",
    "    indatom=18,\n",
    "    iatom=3,\n",
    "    # IMO This is mass of the collision gas atom\n",
    "    miatom=72820.752605496193, # TODO: What are these?\n",
    "    riatom=3.5526664257049561,\n",
    ")"
   ]
  },
  {
   "cell_type": "code",
   "execution_count": 33,
   "metadata": {},
   "outputs": [],
   "source": [
    "nuc0 = 0\n",
    "# This means: \n",
    "# If gas.iatom not 6, then we have noble bas and we add 1 more atom\n",
    "# into system. Else, it's a 6, it's diatomic N2, and we add 2 atoms to system\n",
    "if gas.iatom != 6: \n",
    "    nuc0 = nuc + 1\n",
    "if gas.iatom == 6:\n",
    "    nuc0 = nuc + 2\n",
    " \n",
    "#   allocate(xyz0(3,nuc0), &\n",
    "#       velo0(3,nuc0), &\n",
    "#       grad0(3,nuc0), &\n",
    "#       mass0(nuc0), &\n",
    "#       iat0(nuc0), &\n",
    "#       achrg0(nuc0), &\n",
    "#       aspin0(nuc0)) \n",
    "\n",
    "xyz0 = torch.zeros((3, nuc0))\n",
    "velo0 = torch.zeros((3, nuc0))\n",
    "grad0 = torch.zeros((3, nuc0))\n",
    "mass0 = torch.zeros(nuc0)\n",
    "iat0 = torch.zeros(nuc0)\n",
    "achrg0 = torch.zeros(nuc0)\n",
    "aspin0 = torch.zeros(nuc0)"
   ]
  },
  {
   "cell_type": "code",
   "execution_count": 34,
   "metadata": {},
   "outputs": [
    {
     "name": "stdout",
     "output_type": "stream",
     "text": [
      "          14\n",
      "  \n",
      " O   -0.86135082211542224         -7.7682449169200414          15.461982204809336     \n",
      " C    0.10274853878796679         -8.0728695108798547          14.510603513804643     \n",
      " C   -0.47484132835964982         -8.9397518228940616          13.461802760056679     \n",
      " C    -1.8586955962086826         -9.3937382860206586          13.960370290629234     \n",
      " C    -1.8814275696019482         -8.7268087767610254          15.385819309309317     \n",
      " H    0.55607803892982255         -7.1547427313617762          14.243171614386661     \n",
      " H    0.75506858575479940         -8.7522352149267650          15.002049905989383     \n",
      " H     9.2617440145273303E-002    -9.8084428627829396          13.340438601361978     \n",
      " H   -0.57239447889376383         -8.3569837234193329          12.477135115157155     \n",
      " H    -1.8892657431770707         -10.403167193270098          14.228212831600977     \n",
      " H    -2.7243216943253628         -9.1360490691365435          13.439273567389437     \n",
      " H    -1.7231648860042426         -9.5307047070491997          16.139428053756959     \n",
      " H    -2.8250099978705272         -8.2532549260914028          15.732977583896160     \n",
      " H    -1.0194310983116046         -6.8578531214113827          15.393846928343518     \n",
      "          14\n",
      "  \n",
      " O   -0.37853514497006358         -1.0981850524706351         0.19226490412895547     \n",
      " C    0.66801660429037013        -0.75122123290800669        -0.65138827026899970     \n",
      " C    0.99471413196695513         0.68164533859119492        -0.49251683713161787     \n",
      " C   -0.12429793940521186          1.3100949787508243         0.35753549054827222     \n",
      " C    -1.0723747708995994          6.7797497726446554E-002    0.54478908334614329     \n",
      " H     1.4203499551067251         -1.4812759961727959        -0.50647860296815639     \n",
      " H    0.23862973900339557        -0.75723732129106025         -1.6230721110839808     \n",
      " H    0.97483307605069924          1.1739640681186834         -1.4137062030733389     \n",
      " H     2.0112443122575852         0.79959184849118414          2.8502029337923247E-002\n",
      " H   -0.75228975147331367          1.9409149247850666        -0.18955989335790405     \n",
      " H     8.5773755845339930E-002     1.7336055268711679          1.2869238742155502     \n",
      " H    -1.9574465191023938         0.21363961044340857        -0.11445287690281289     \n",
      " H    -1.5378589924125676         -9.6714917366920630E-002     1.5404697655118564     \n",
      " H    -2.8211609793892433E-002    -1.6846509199890074         0.81818520088278957     \n"
     ]
    }
   ],
   "source": [
    "!cat ../runs/current/TMPQCXMS/TMP.1/rotate.xyz"
   ]
  },
  {
   "cell_type": "code",
   "execution_count": 35,
   "metadata": {},
   "outputs": [
    {
     "name": "stdout",
     "output_type": "stream",
     "text": [
      "4.0K\t../runs/current/TMPQCXMS/TMP.1/rotate.xyz\n",
      "          14\n",
      "  \n",
      " O   -0.86135082211542224         -7.7682449169200414          15.461982204809336     \n",
      " C    0.10274853878796679         -8.0728695108798547          14.510603513804643     \n",
      " C   -0.47484132835964982         -8.9397518228940616          13.461802760056679     \n",
      " C    -1.8586955962086826         -9.3937382860206586          13.960370290629234     \n",
      " C    -1.8814275696019482         -8.7268087767610254          15.385819309309317     \n",
      " H    0.55607803892982255         -7.1547427313617762          14.243171614386661     \n",
      " H    0.75506858575479940         -8.7522352149267650          15.002049905989383     \n",
      " H     9.2617440145273303E-002    -9.8084428627829396          13.340438601361978     \n",
      " H   -0.57239447889376383         -8.3569837234193329          12.477135115157155     \n",
      " H    -1.8892657431770707         -10.403167193270098          14.228212831600977     \n",
      " H    -2.7243216943253628         -9.1360490691365435          13.439273567389437     \n",
      " H    -1.7231648860042426         -9.5307047070491997          16.139428053756959     \n",
      " H    -2.8250099978705272         -8.2532549260914028          15.732977583896160     \n",
      " H    -1.0194310983116046         -6.8578531214113827          15.393846928343518     \n",
      "          14\n",
      "  \n",
      " O   -0.37853514497006358         -1.0981850524706351         0.19226490412895547     \n",
      " C    0.66801660429037013        -0.75122123290800669        -0.65138827026899970     \n",
      " C    0.99471413196695513         0.68164533859119492        -0.49251683713161787     \n",
      " C   -0.12429793940521186          1.3100949787508243         0.35753549054827222     \n",
      " C    -1.0723747708995994          6.7797497726446554E-002    0.54478908334614329     \n",
      " H     1.4203499551067251         -1.4812759961727959        -0.50647860296815639     \n",
      " H    0.23862973900339557        -0.75723732129106025         -1.6230721110839808     \n",
      " H    0.97483307605069924          1.1739640681186834         -1.4137062030733389     \n",
      " H     2.0112443122575852         0.79959184849118414          2.8502029337923247E-002\n",
      " H   -0.75228975147331367          1.9409149247850666        -0.18955989335790405     \n",
      " H     8.5773755845339930E-002     1.7336055268711679          1.2869238742155502     \n",
      " H    -1.9574465191023938         0.21363961044340857        -0.11445287690281289     \n",
      " H    -1.5378589924125676         -9.6714917366920630E-002     1.5404697655118564     \n",
      " H    -2.8211609793892433E-002    -1.6846509199890074         0.81818520088278957     \n"
     ]
    }
   ],
   "source": [
    "!du -hs ../runs/current/TMPQCXMS/TMP.1/rotate.xyz\n",
    "!cat ../runs/current/TMPQCXMS/TMP.1/rotate.xyz"
   ]
  },
  {
   "cell_type": "code",
   "execution_count": 36,
   "metadata": {},
   "outputs": [
    {
     "name": "stdout",
     "output_type": "stream",
     "text": [
      "          14\n",
      "  \n",
      " O   -0.86135082211542224         -7.7682449169200414          15.461982204809336     \n",
      " C    0.10274853878796679         -8.0728695108798547          14.510603513804643     \n",
      " C   -0.47484132835964982         -8.9397518228940616          13.461802760056679     \n",
      " C    -1.8586955962086826         -9.3937382860206586          13.960370290629234     \n",
      " C    -1.8814275696019482         -8.7268087767610254          15.385819309309317     \n",
      " H    0.55607803892982255         -7.1547427313617762          14.243171614386661     \n",
      " H    0.75506858575479940         -8.7522352149267650          15.002049905989383     \n",
      " H     9.2617440145273303E-002    -9.8084428627829396          13.340438601361978     \n",
      " H   -0.57239447889376383         -8.3569837234193329          12.477135115157155     \n",
      " H    -1.8892657431770707         -10.403167193270098          14.228212831600977     \n",
      " H    -2.7243216943253628         -9.1360490691365435          13.439273567389437     \n",
      " H    -1.7231648860042426         -9.5307047070491997          16.139428053756959     \n",
      " H    -2.8250099978705272         -8.2532549260914028          15.732977583896160     \n",
      " H    -1.0194310983116046         -6.8578531214113827          15.393846928343518     \n",
      "          14\n",
      "  \n",
      " O   -0.37853514497006358         -1.0981850524706351         0.19226490412895547     \n",
      " C    0.66801660429037013        -0.75122123290800669        -0.65138827026899970     \n",
      " C    0.99471413196695513         0.68164533859119492        -0.49251683713161787     \n",
      " C   -0.12429793940521186          1.3100949787508243         0.35753549054827222     \n",
      " C    -1.0723747708995994          6.7797497726446554E-002    0.54478908334614329     \n",
      " H     1.4203499551067251         -1.4812759961727959        -0.50647860296815639     \n",
      " H    0.23862973900339557        -0.75723732129106025         -1.6230721110839808     \n",
      " H    0.97483307605069924          1.1739640681186834         -1.4137062030733389     \n",
      " H     2.0112443122575852         0.79959184849118414          2.8502029337923247E-002\n",
      " H   -0.75228975147331367          1.9409149247850666        -0.18955989335790405     \n",
      " H     8.5773755845339930E-002     1.7336055268711679          1.2869238742155502     \n",
      " H    -1.9574465191023938         0.21363961044340857        -0.11445287690281289     \n",
      " H    -1.5378589924125676         -9.6714917366920630E-002     1.5404697655118564     \n",
      " H    -2.8211609793892433E-002    -1.6846509199890074         0.81818520088278957     \n",
      "ls: cannot access '../runs/current/TMPQCXMS/TMP.1/CID.xyz': No such file or directory\n"
     ]
    }
   ],
   "source": [
    "!cat ../runs/current/TMPQCXMS/TMP.1/rotate.xyz\n",
    "!ls ../runs/current/TMPQCXMS/TMP.1/CID.xyz"
   ]
  },
  {
   "cell_type": "code",
   "execution_count": 37,
   "metadata": {},
   "outputs": [],
   "source": [
    "fname = 'CID.xyz'\n",
    "iniok      = True\n",
    "stopcid    = False\n",
    "gradfail   = False\n",
    "avg_struc =  False\n",
    "dumpscreen = 100   #interval for screen dumping\n",
    "dumpcoord  = 4     #interval for coordinate dumping\n",
    "dumpdist   = 10    #interval for distance dumping\n",
    "dumpavg    = 50    #\n",
    "ntot       = 15000 #maximum number of steps\n",
    "\n",
    "new_velo   = 0.0\n",
    "Tinit      = 0.0\n",
    "\n",
    "time_step_count = 0\n",
    "step_counter = 0\n",
    "\n",
    "avxyz = 0\n",
    "avxyz2 = 0\n",
    "\n",
    "normmass =0\n",
    "cg = 0\n",
    "diff_cg = 0\n",
    "cnt = 0\n",
    "trafo = 0\n",
    "gradient = 0\n",
    "\n",
    "set_grad = float('+inf')\n",
    "\n",
    "T_GBSA=300\n",
    "solvent='h2o'\n",
    "gsolvstate=0\n",
    "nfrag = 1\n",
    "# count steps after frag\n",
    "morestep = 0\n",
    "check_fragmented = 1\n",
    "start_cnt = 0\n",
    "# count the number of steps that are used for \n",
    "# averaging structures for IP calc\n",
    "cnt_steps = 50"
   ]
  },
  {
   "cell_type": "code",
   "execution_count": 38,
   "metadata": {},
   "outputs": [
    {
     "name": "stdout",
     "output_type": "stream",
     "text": [
      "1400.0\n"
     ]
    }
   ],
   "source": [
    "# abs charge higher than 1 could need more sim steps, who knows?\n",
    "#   !if ( abs(mchrg) == 1) cnt_steps = 50\n",
    "#   !if ( abs(mchrg) > 1) cnt_steps = 100\n",
    "# this is not sufficiently tested. It was experienced that\n",
    "# higher charge (or maybe larger molecules)\n",
    "# need more time for rearrangement and this can influence the \n",
    "# IP assignment in the end\n",
    "if nuc <= 10:\n",
    "    add_steps = 0\n",
    "if nuc > 10:\n",
    "    add_steps = (nuc/10) * 500\n",
    "if nuc > 10:\n",
    "    add_steps = (nuc/10) * 1000\n",
    "print(add_steps)"
   ]
  },
  {
   "cell_type": "code",
   "execution_count": 39,
   "metadata": {},
   "outputs": [
    {
     "data": {
      "text/plain": [
       "5000.0"
      ]
     },
     "execution_count": 39,
     "metadata": {},
     "output_type": "execute_result"
    }
   ],
   "source": [
    "# set eletronic temperature\n",
    "etemp = -1\n",
    "if etemp <= 0: # Fermi-smearing levels\n",
    "    etemp = 5000.0   # + 20000.0\n",
    "etemp"
   ]
  },
  {
   "cell_type": "code",
   "execution_count": 40,
   "metadata": {},
   "outputs": [
    {
     "data": {
      "text/plain": [
       "tensor([ -1.8763, -16.1575,  27.5742])"
      ]
     },
     "execution_count": 40,
     "metadata": {},
     "output_type": "execute_result"
    }
   ],
   "source": [
    "cm = torch.tensor([-1.8763399533567406, -16.157524061279283, 27.574184314951335])\n",
    "cm"
   ]
  },
  {
   "cell_type": "code",
   "execution_count": 41,
   "metadata": {},
   "outputs": [
    {
     "data": {
      "text/plain": [
       "(14, 3)"
      ]
     },
     "execution_count": 41,
     "metadata": {},
     "output_type": "execute_result"
    }
   ],
   "source": [
    "mol.xyz.shape"
   ]
  },
  {
   "cell_type": "code",
   "execution_count": 42,
   "metadata": {},
   "outputs": [
    {
     "data": {
      "text/plain": [
       "array([[ -0.86135074,  -7.7682442 ,  15.46198077],\n",
       "       [  0.10274853,  -8.07286876,  14.51060217],\n",
       "       [ -0.47484128,  -8.93975099,  13.46180151],\n",
       "       [ -1.85869542,  -9.39373741,  13.960369  ],\n",
       "       [ -1.8814274 ,  -8.72680797,  15.38581788],\n",
       "       [  0.55607799,  -7.15474207,  14.24317029],\n",
       "       [  0.75506852,  -8.7522344 ,  15.00204851],\n",
       "       [  0.09261743,  -9.80844195,  13.34043736],\n",
       "       [ -0.57239443,  -8.35698295,  12.47713396],\n",
       "       [ -1.88926557, -10.40316623,  14.22821151],\n",
       "       [ -2.72432144,  -9.13604822,  13.43927232],\n",
       "       [ -1.72316473,  -9.53070382,  16.13942656],\n",
       "       [ -2.82500974,  -8.25325416,  15.73297612],\n",
       "       [ -1.019431  ,  -6.85785249,  15.3938455 ]])"
      ]
     },
     "execution_count": 42,
     "metadata": {},
     "output_type": "execute_result"
    }
   ],
   "source": [
    "mol.xyz # TODO somewhere the xyz changed\n"
   ]
  },
  {
   "cell_type": "code",
   "execution_count": 43,
   "metadata": {},
   "outputs": [
    {
     "data": {
      "text/plain": [
       "tensor(133278.3320)"
      ]
     },
     "execution_count": 43,
     "metadata": {},
     "output_type": "execute_result"
    }
   ],
   "source": [
    "# velo, xyz\n",
    "summass = mass.sum()\n",
    "summass "
   ]
  },
  {
   "cell_type": "code",
   "execution_count": 44,
   "metadata": {},
   "outputs": [
    {
     "data": {
      "text/plain": [
       "72820.75260549619"
      ]
     },
     "execution_count": 44,
     "metadata": {},
     "output_type": "execute_result"
    }
   ],
   "source": [
    "gas.miatom"
   ]
  },
  {
   "cell_type": "code",
   "execution_count": 45,
   "metadata": {},
   "outputs": [],
   "source": [
    "Eimpact = ELAB # IMO This is initial energy. it gets transferred\n",
    "# to ECOM, after first iter\n",
    "ECOM = 0"
   ]
  },
  {
   "cell_type": "code",
   "execution_count": 46,
   "metadata": {},
   "outputs": [],
   "source": [
    "eExact = False\n",
    "def vary_energies(E_in, E_Distr) -> float:\n",
    "    pass\n",
    "\n",
    "if not eExact:\n",
    "    E_Distr = .1\n",
    "    E_velo = 1.8379383706653682 #vary_energies(Eimpact, E_Distr) * evtoau"
   ]
  },
  {
   "cell_type": "code",
   "execution_count": 47,
   "metadata": {},
   "outputs": [
    {
     "data": {
      "text/plain": [
       "tensor(17.6710)"
      ]
     },
     "execution_count": 47,
     "metadata": {},
     "output_type": "execute_result"
    }
   ],
   "source": [
    "Ekin = 0.027652043145031752\n",
    "Tinit = 415.80156382302368\n",
    "\n",
    "kB = 3.166808578545117e-06 # Boltzmann const in Eh/K\n",
    "beta = gas.miatom / (gas.miatom + summass)\n",
    "E_Therm = Tinit * 0.5 * 3.0 * nuc * kB\n",
    "\n",
    "E_COM_calc = (beta * E_velo) * autoev # Calculate the Center-of-mass energy\n",
    "E_COM_calc"
   ]
  },
  {
   "cell_type": "code",
   "execution_count": 63,
   "metadata": {},
   "outputs": [
    {
     "data": {
      "text/plain": [
       "0.005251709510040625"
      ]
     },
     "execution_count": 63,
     "metadata": {},
     "output_type": "execute_result"
    }
   ],
   "source": [
    "from math import sqrt\n",
    "fasti = sqrt(2 * E_velo / summass)\n",
    "fasti"
   ]
  },
  {
   "cell_type": "code",
   "execution_count": 66,
   "metadata": {},
   "outputs": [
    {
     "name": "stdout",
     "output_type": "stream",
     "text": [
      "Collision Gas idx 18\n",
      "Number of precursor atoms 14\n",
      "Mass collision gas 39.948001861572266\n",
      "Mass precursor Ion 73.11381526999998\n",
      "\n",
      "Kinetic Energy eV (LAB) 50.012848702344954\n",
      "Kinetic Energy au (LAB) 1.8379383706653682\n",
      "Kinetic Energy eV (COM) 17.67098233295506\n",
      "Kinetic Energy au (COM) 0.6493966514561912\n",
      "\n",
      "Velocity (au)  0.005251709510040625\n",
      "Velocity (au)  11489.119014290982\n"
     ]
    }
   ],
   "source": [
    "## BEGIN CID MODULE\n",
    "\n",
    "print(f'Collision Gas idx {gas.indatom}') # toSymbol(gas%IndAtom)\n",
    "print(f'Number of precursor atoms {nuc}')\n",
    "print(f'Mass collision gas {gas.miatom/amutoau}')\n",
    "print(f'Mass precursor Ion {summass * autoamu}')\n",
    "print()\n",
    "print(f'Kinetic Energy eV (LAB) {E_velo / evtoau}')\n",
    "print(f'Kinetic Energy au (LAB) {E_velo}')\n",
    "print(f'Kinetic Energy eV (COM) {E_COM_calc}')\n",
    "print(f'Kinetic Energy au (COM) {E_COM_calc * evtoau}')\n",
    "print()\n",
    "print(f'Velocity (au) ', fasti)\n",
    "print(f'Velocity (au) ', fasti / mstoau)"
   ]
  },
  {
   "cell_type": "code",
   "execution_count": 75,
   "metadata": {},
   "outputs": [
    {
     "name": "stdout",
     "output_type": "stream",
     "text": [
      "---------- Molecular Ion Properties ----------\n",
      "Molecular temp. (K) 415.8015638230237\n",
      "Rotational Energy (ev) 0.05510139772126875\n",
      "Thermal Energy (eV) 0.752450393438672\n",
      "Internal Energy (eV) 0.8075517911599408\n"
     ]
    }
   ],
   "source": [
    "E_rot = 0.0020249391061874212 # rotation_velo(xyz, nuc, mass, velo, velo_rot, E_rot)\n",
    "\n",
    "print('-'*10, 'Molecular Ion Properties', '-'*10)\n",
    "print(f'Molecular temp. (K) {Tinit}')\n",
    "print(f'Rotational Energy (ev) {E_rot / evtoau}')\n",
    "print(f'Thermal Energy (eV) {E_Therm / evtoau}')\n",
    "print(f'Internal Energy (eV) {(E_rot+E_Therm) / evtoau}')"
   ]
  },
  {
   "cell_type": "code",
   "execution_count": 54,
   "metadata": {},
   "outputs": [
    {
     "data": {
      "text/plain": [
       "1.8379383706653682"
      ]
     },
     "execution_count": 54,
     "metadata": {},
     "output_type": "execute_result"
    }
   ],
   "source": [
    "E_velo"
   ]
  },
  {
   "cell_type": "code",
   "execution_count": null,
   "metadata": {},
   "outputs": [],
   "source": []
  }
 ],
 "metadata": {
  "kernelspec": {
   "display_name": "pb2",
   "language": "python",
   "name": "python3"
  },
  "language_info": {
   "codemirror_mode": {
    "name": "ipython",
    "version": 3
   },
   "file_extension": ".py",
   "mimetype": "text/x-python",
   "name": "python",
   "nbconvert_exporter": "python",
   "pygments_lexer": "ipython3",
   "version": "3.11.8"
  }
 },
 "nbformat": 4,
 "nbformat_minor": 2
}
