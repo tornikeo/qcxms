{
 "cells": [
  {
   "cell_type": "code",
   "execution_count": 1,
   "metadata": {},
   "outputs": [],
   "source": [
    "import torch"
   ]
  },
  {
   "cell_type": "code",
   "execution_count": 2,
   "metadata": {},
   "outputs": [],
   "source": [
    "def center_of_mass(nuc, mass, xyz):\n",
    "    return torch.randn(3, 1)\n",
    "\n",
    "def euler_rotation(nuc, iat, xyz, velo):\n",
    "    # Returns a random xyz rotation\n",
    "    # random angles a,b,c\n",
    "    a,b,c = torch.rand(3, 1) * torch.pi\n",
    "\n",
    "    rot_alpha, rot_beta, rot_gamma = ... # Define 3D rot matrices\n",
    "    R = rot_alpha @ rot_beta @ rot_gamma\n",
    "    \n",
    "    new_xyz = R @ xyz # Rotate\n",
    "    new_velo = R @ velo\n",
    "\n",
    "    velo, xyz = new_velo, new_xyz # update\n",
    "    return xyz, velo\n",
    "\n",
    "def eigvec3x3(a,w,q):\n",
    "    \"\"\"Calculates eigenvector using an analytical\n",
    "    method based on vector cross products\"\"\"\n",
    "    return a, w\n",
    "\n",
    "def ekinet(nuc, velo, mass, Ekin, Tinit):\n",
    "    return ... # Return m * v**2 / 2\n",
    "\n",
    "def rotation_velo(xyz, nuc, mass, velo, velo_rot, E_rot):\n",
    "    # Return angular momentum\n",
    "\n",
    "    # Calc the main axes of inertia for rot E\n",
    "    xyz_omega = 0.\n",
    "    velo_rot = torch.zeros(3,3)\n",
    "    Ekin, Temp = ekinet(nuc, velo, mass, Ekin)\n",
    "\n",
    "    return velo_rot, E_rot\n",
    "\n",
    "def vary_energies(E_in, E_distr):\n",
    "    \"\"\"Do variation of the starting collision E's\"\"\"\n",
    "    d0, d1 = torch.rand(2)\n",
    "    sigma = E_in * E_distr\n",
    "    z0 = -2. * torch.log(d0) * torch.cos(2. * torch.pi * d1)\n",
    "    z1 = -2. * torch.log(d0) * torch.sin(2. * torch.pi * d1)\n",
    "    # The fuck is this?\n",
    "    if torch.rand() > .5:\n",
    "        E_scale = z0 * sigma + E_in\n",
    "    else:\n",
    "        E_scale = z1 * sigma + E_in\n",
    "    return E_scale"
   ]
  },
  {
   "cell_type": "code",
   "execution_count": 5,
   "metadata": {},
   "outputs": [],
   "source": [
    "ECOM = ...\n",
    "ELAB = ...\n",
    "beta = ...\n",
    "\n",
    "def cid(nuc, iat, mass, xyz, velo, icoll):\n",
    "    \"\"\"\n",
    "    Args:\n",
    "        icoll: Number of collisions so far?\n",
    "\n",
    "    \"\"\"\n",
    "    # Init vars\n",
    "\n",
    "    # Allocate another molecule, and impact atom\n",
    "    nuc0, xyz0, velo0 = ...\n",
    "\n",
    "    # Larger molecules, or larger charge needs more time for \n",
    "    # rearrangement - are we adding extra time here?\n",
    "    add_steps =  (nuc // 10) * 1000\n",
    "\n",
    "    # What is fermi-smearing levels?\n",
    "    if etemp <= 0:\n",
    "        etemp = 5000.\n",
    "\n",
    "    if icoll == 1:\n",
    "        cm = center_of_mass(nuc, mass, xyz, cm)\n",
    "\n",
    "    # Set origin to center of mass\n",
    "    xyz = xyz - cm # 3,nuc - 3,1 -> 3, nuc\n",
    "    \n",
    "    euler_rotation(nuc, iat, xyz, velo)\n",
    "    \n",
    "    velo_rot, E_rot = rotation_velo(xyz, nuc, mass, velo)\n",
    "\n",
    "    velo += velo_rot # Sum velos for each atom\n",
    "\n",
    "    if icoll == 1: # If fist collision\n",
    "        # What are ECOM and ELAB\n",
    "        Eimpact = ECOM / beta if ECOM > 0 else ELAB\n",
    "\n",
    "        # Impact energy\n",
    "        if not e_exact:\n",
    "            E_distr = .1\n",
    "            E_velo = vary"
   ]
  },
  {
   "cell_type": "code",
   "execution_count": null,
   "metadata": {},
   "outputs": [],
   "source": [
    "# "
   ]
  },
  {
   "cell_type": "code",
   "execution_count": 8,
   "metadata": {},
   "outputs": [
    {
     "data": {
      "text/plain": [
       "tensor([[ 0.0479, -0.3235, -0.9041, -1.8356,  0.3887, -0.5563, -0.8717,  0.3546,\n",
       "         -0.4833, -2.0087],\n",
       "        [ 1.7923,  0.4549,  0.1510, -1.1890, -1.0437, -2.3286,  1.0135,  1.0060,\n",
       "         -1.9654,  0.5007],\n",
       "        [-1.9453, -0.1997, -0.9589, -1.4111, -0.6913, -3.0421, -1.4987, -0.8569,\n",
       "         -1.9821, -0.7148]])"
      ]
     },
     "execution_count": 8,
     "metadata": {},
     "output_type": "execute_result"
    }
   ],
   "source": [
    "torch.randn(3,10) - torch.randn(3, 1)"
   ]
  }
 ],
 "metadata": {
  "kernelspec": {
   "display_name": "Python 3",
   "language": "python",
   "name": "python3"
  },
  "language_info": {
   "codemirror_mode": {
    "name": "ipython",
    "version": 3
   },
   "file_extension": ".py",
   "mimetype": "text/x-python",
   "name": "python",
   "nbconvert_exporter": "python",
   "pygments_lexer": "ipython3",
   "version": "3.11.8"
  }
 },
 "nbformat": 4,
 "nbformat_minor": 2
}
